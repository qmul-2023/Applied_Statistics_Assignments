{
 "cells": [
  {
   "cell_type": "markdown",
   "id": "2c94e5cb",
   "metadata": {},
   "source": [
    "# Applied Statistics (ECS764P): Lab 1: Probability Theory"
   ]
  },
  {
   "cell_type": "markdown",
   "id": "fef5c382",
   "metadata": {},
   "source": [
    "### Question 1:"
   ]
  },
  {
   "cell_type": "markdown",
   "id": "32f3ce61",
   "metadata": {},
   "source": [
    "Implement the counting measure in Python. Test that it satisfies additivity on the disjoint sets\n",
    "{\"a\", \"b\", \"c\"}, {\"d\", \"e\", \"f\"}.\n",
    "\n",
    "Bonus mark if your implementation of the counting measure checks that the input type is correct and\n",
    "raises an error otherwise."
   ]
  },
  {
   "cell_type": "markdown",
   "id": "1070f350",
   "metadata": {},
   "source": [
    "## Type 1 to solve the above question:"
   ]
  },
  {
   "cell_type": "code",
   "execution_count": 1,
   "id": "5c67bab6",
   "metadata": {},
   "outputs": [
    {
     "name": "stdout",
     "output_type": "stream",
     "text": [
      "Total Elements in set 1 are: 3\n",
      "Total Elements in set 2 are: 3\n",
      "Total Elements in both sets are: 6\n"
     ]
    },
    {
     "ename": "ValueError",
     "evalue": "Input must be a set!!!",
     "output_type": "error",
     "traceback": [
      "\u001b[1;31m---------------------------------------------------------------------------\u001b[0m",
      "\u001b[1;31mValueError\u001b[0m                                Traceback (most recent call last)",
      "Cell \u001b[1;32mIn[1], line 24\u001b[0m\n\u001b[0;32m     20\u001b[0m \u001b[38;5;28mprint\u001b[39m(\u001b[38;5;124m\"\u001b[39m\u001b[38;5;124mTotal Elements in both sets are:\u001b[39m\u001b[38;5;124m\"\u001b[39m,union_count)\n\u001b[0;32m     22\u001b[0m \u001b[38;5;66;03m#Trying to check the number of elements in a list\u001b[39;00m\n\u001b[1;32m---> 24\u001b[0m count_3 \u001b[38;5;241m=\u001b[39m fun_count(set_3)\n\u001b[0;32m     25\u001b[0m \u001b[38;5;28mprint\u001b[39m(\u001b[38;5;124m\"\u001b[39m\u001b[38;5;124mTotal Elements in set 3 are:\u001b[39m\u001b[38;5;124m\"\u001b[39m,count_3)\n",
      "Cell \u001b[1;32mIn[1], line 10\u001b[0m, in \u001b[0;36mfun_count\u001b[1;34m(val)\u001b[0m\n\u001b[0;32m      8\u001b[0m \u001b[38;5;28;01mif\u001b[39;00m \u001b[38;5;28misinstance\u001b[39m(val,\u001b[38;5;28mset\u001b[39m):\n\u001b[0;32m      9\u001b[0m     \u001b[38;5;28;01mreturn\u001b[39;00m \u001b[38;5;28mlen\u001b[39m(val)\u001b[38;5;66;03m#We are using length of the set to calculate the count of elements in the given set\u001b[39;00m\n\u001b[1;32m---> 10\u001b[0m \u001b[38;5;28;01mraise\u001b[39;00m \u001b[38;5;167;01mValueError\u001b[39;00m(\u001b[38;5;124m\"\u001b[39m\u001b[38;5;124mInput must be a set!!!\u001b[39m\u001b[38;5;124m\"\u001b[39m)\n",
      "\u001b[1;31mValueError\u001b[0m: Input must be a set!!!"
     ]
    }
   ],
   "source": [
    "set_1 = {\"a\",\"b\",\"c\"} #Set 1\n",
    "set_2 = {\"d\",\"e\",\"f\"} #Set 2\n",
    "set_3 = [1,2,3] #List\n",
    "\n",
    "#Function to define the counting measure\n",
    "\n",
    "def fun_count(val):\n",
    "    if isinstance(val,set):\n",
    "        return len(val)#We are using length of the set to calculate the count of elements in the given set\n",
    "    raise ValueError(\"Input must be a set!!!\")#Function is checking the type of the input and throwing error if not a set\n",
    "\n",
    "#Number of elements in each set and their union\n",
    "\n",
    "count_1 = fun_count(set_1)\n",
    "count_2 = fun_count(set_2)\n",
    "union_count = fun_count(set_1.union(set_2))\n",
    "\n",
    "print(\"Total Elements in set 1 are:\",count_1)\n",
    "print(\"Total Elements in set 2 are:\",count_2)\n",
    "print(\"Total Elements in both sets are:\",union_count)\n",
    "\n",
    "#Trying to check the number of elements in a list\n",
    "\n",
    "count_3 = fun_count(set_3)\n",
    "print(\"Total Elements in set 3 are:\",count_3)"
   ]
  },
  {
   "cell_type": "markdown",
   "id": "177cec60",
   "metadata": {},
   "source": [
    "This method can be used if you want to terminate the code if your given elements are not in set. This code is throwing a ValueError for the set_3 which is actually a List."
   ]
  },
  {
   "cell_type": "markdown",
   "id": "298cfbaa",
   "metadata": {},
   "source": [
    "## Type 2 to solve the above question:"
   ]
  },
  {
   "cell_type": "code",
   "execution_count": 2,
   "id": "e4205b0e",
   "metadata": {},
   "outputs": [
    {
     "name": "stdout",
     "output_type": "stream",
     "text": [
      "Total Elements in set 1 are: 3\n",
      "Total Elements in set 2 are: 3\n",
      "Total Elements in both sets are: 6\n",
      "Input must be a set!!!\n",
      "Total Elements in set 3 are: None\n"
     ]
    }
   ],
   "source": [
    "set_1 = {\"a\",\"b\",\"c\"}#Set 1\n",
    "set_2 = {\"d\",\"e\",\"f\"}#Set 2\n",
    "set_3 = [1,2,3]#List\n",
    "\n",
    "#Function to define the counting measure\n",
    "\n",
    "def fun_count(val):\n",
    "    if isinstance(val,set):\n",
    "        return len(val)#We are using length of the set to calculate the count of elements in the given set\n",
    "    print(\"Input must be a set!!!\")#Function is checking the type of the input and throwing error if not a set\n",
    "\n",
    "#Number of elements in each set and their union\n",
    "\n",
    "count_1 = fun_count(set_1)\n",
    "count_2 = fun_count(set_2)\n",
    "union_count = fun_count(set_1.union(set_2))\n",
    "\n",
    "print(\"Total Elements in set 1 are:\",count_1)\n",
    "print(\"Total Elements in set 2 are:\",count_2)\n",
    "print(\"Total Elements in both sets are:\",union_count)\n",
    "\n",
    "#Trying to check the number of elements in a list\n",
    "\n",
    "count_3 = fun_count(set_3)\n",
    "print(\"Total Elements in set 3 are:\",count_3)"
   ]
  },
  {
   "cell_type": "markdown",
   "id": "03e22140",
   "metadata": {},
   "source": [
    "This method can be done if you do not want to terminate the program by throwing the error as a ValueError."
   ]
  },
  {
   "cell_type": "markdown",
   "id": "930f8158",
   "metadata": {},
   "source": [
    "### Question 2:"
   ]
  },
  {
   "cell_type": "markdown",
   "id": "6f0ea896",
   "metadata": {},
   "source": [
    "Create a Python class which implements intervals. Use this new data type to write a function\n",
    "which implements the length measure on intervals. Test it on the interval [1, 3.5].\n",
    "\n",
    "Bonus mark if your implementation of the length measure checks that the input type is correct and raises\n",
    "an error otherwise."
   ]
  },
  {
   "cell_type": "code",
   "execution_count": 3,
   "id": "b556755f",
   "metadata": {},
   "outputs": [
    {
     "name": "stdout",
     "output_type": "stream",
     "text": [
      "The length of the interval  [1, 3.5] is: 2.5\n",
      "The length of the interval  [3.5, 1] is: The first element of interval cannot be greater that the second element. Any of the elements cannot be negative. This is not the valid interval!!!\n",
      "The length of the interval  [-20, -10] is: 10\n",
      "The length of the interval  [1] is: Enter atleast 2 elements for calculation!!!\n"
     ]
    }
   ],
   "source": [
    "#Class for Intervals\n",
    "\n",
    "class Intervals:\n",
    "    def __init__(self, interval):\n",
    "        self.interval = interval\n",
    "\n",
    "#A function to detemine the length of the interval specifed\n",
    "\n",
    "    def Length(self):\n",
    "        if len(self.interval) < 2:#Checking of the interval has only one element\n",
    "            return \"Enter atleast 2 elements for calculation!!!\"\n",
    "        else:\n",
    "            if ((self.interval[0] > self.interval[1])):\n",
    "                return \"The first element of interval cannot be greater that the second element. Any of the elements cannot be negative. This is not the valid interval!!!\"\n",
    "            else:\n",
    "                if (self.interval[0]<0 or self.interval[1]<0):#Checking the values of the interval\n",
    "                    return abs(self.interval[1] - self.interval[0])\n",
    "            return self.interval[1] - self.interval[0]\n",
    "\n",
    "\n",
    "#Printing the lengths of each interval\n",
    "\n",
    "#This will print the length of interval\n",
    "Given_Interval_1 = [1,3.5]\n",
    "Length_of_Interval_1 = Intervals(Given_Interval_1)\n",
    "print(\"The length of the interval \",Given_Interval_1,\"is:\",Length_of_Interval_1.Length())\n",
    "\n",
    "#This will raise an error as 3.5 is greater than 1 which is invalid\n",
    "Given_Interval_2 = [3.5,1]\n",
    "Length_of_Interval_2 = Intervals(Given_Interval_2)\n",
    "print(\"The length of the interval \",Given_Interval_2,\"is:\",Length_of_Interval_2.Length())\n",
    "\n",
    "#This will print the length of the interval\n",
    "Given_Interval_3 = [-20,-10]\n",
    "Length_of_Interval_3 = Intervals(Given_Interval_3)\n",
    "print(\"The length of the interval \",Given_Interval_3,\"is:\",Length_of_Interval_3.Length())\n",
    "\n",
    "#This will raise an error as there is only one element\n",
    "Given_Interval_4 = [1]\n",
    "Length_of_Interval_4 = Intervals(Given_Interval_4)\n",
    "print(\"The length of the interval \",Given_Interval_4,\"is:\",Length_of_Interval_4.Length())"
   ]
  },
  {
   "cell_type": "markdown",
   "id": "258404fc",
   "metadata": {},
   "source": [
    "As you can see in the above code it checks for the number of elements for length calculation, if the number of elements is less that 2 then it raises an error.\n",
    "\n",
    "If you do not want to terminate the code, you can write the above code by giving the print statements as done in question 1 type 2."
   ]
  },
  {
   "cell_type": "markdown",
   "id": "d14bd503",
   "metadata": {},
   "source": [
    "### Question 3:"
   ]
  },
  {
   "cell_type": "markdown",
   "id": "be838328",
   "metadata": {},
   "source": [
    "Import scipy.stats in order to access the scipy.stats.expon distribution. This implements the exponential distribution Exp(λ).\n",
    "\n",
    "Using the cdf method of scipy.stats.expon define a function called expon_measure which will take as input an interval (defined in the previous question) and will return its probability mass under the probability measure Exp (2) (i.e. λ = 2). Test your function by computing the probability measure of the following intervals:\n",
    "(a) [0, 1]\n",
    "(b) [1, 1]\n",
    "(c) [1, 10]\n",
    "(d) [0, ∞)\n",
    "\n",
    "Plot the pdf of Exp (2) on comment on whether your answers seem to make sense visually."
   ]
  },
  {
   "cell_type": "code",
   "execution_count": 4,
   "id": "fa862c70",
   "metadata": {},
   "outputs": [
    {
     "name": "stdout",
     "output_type": "stream",
     "text": [
      "Probability Mass for many Intervals: \n",
      "\n",
      "Probability Mass of interval [0, 1] is: 0.8646647167633873\n",
      "\n",
      "Probability Mass for interval [0, 1]: 0.8646647167633873\n",
      "Probability Mass for interval [1, 1]: 0.0\n",
      "Probability Mass for interval [1, 10]: 0.13533528117545912\n",
      "Probability Mass for interval [0, inf]: 1.0\n"
     ]
    }
   ],
   "source": [
    "import scipy.stats as stats\n",
    "import numpy as np\n",
    "import matplotlib.pyplot as plt\n",
    "\n",
    "class Intervals:\n",
    "    def expon_measure(self, interval):\n",
    "        if len(interval) < 2:  # Checking if the interval has only one element\n",
    "            return \"Enter at least 2 elements to complete the interval!!!\"\n",
    "        else:\n",
    "            if (interval[0] > interval[1]):#Checking if the interval is valid\n",
    "                return \"The first element of interval cannot be greater that the second element. This is not the valid interval!!!\"\n",
    "            else:\n",
    "                if ((interval[0] > interval[1]) and ((interval[1]<0) or (interval[0]<0 and interval[1]<0))):#Checking if the interval is valid for Exponential Measure\n",
    "                    return \"The first element of interval cannot be greater that the second element. Any of the elements cannot be negative. This is not the valid interval!!!\"\n",
    "                else:\n",
    "                    if (interval[0]<0 or interval[1]<0):#Checking if the interval is valid for Exponential Measure\n",
    "                        return \"The elements of the interval should be non negative for calculating the Exponential Measure!!!\"\n",
    "            # Calculate the probability measure of the interval using the CDF method\n",
    "            prob_measure = stats.expon(scale = 1/2).cdf(interval[1]) - stats.expon(scale = 1/2).cdf(interval[0])\n",
    "            return prob_measure\n",
    "        \n",
    "      \n",
    "    \n",
    "#Printing Probability Mass for one interval\n",
    "Interval_1 = [0,1]\n",
    "print(\"Probability Mass for many Intervals: \\n\")\n",
    "probability_measure_1 = Intervals().expon_measure(Interval_1)  # Call the method on the instance\n",
    "print(f\"Probability Mass of interval {Interval_1} is: {probability_measure_1}\\n\")\n",
    "\n",
    "intervals = [[0, 1], [1, 1], [1, 10], [0, np.inf]]\n",
    "\n",
    "for i in intervals:\n",
    "    probability_measure = Intervals().expon_measure(i)\n",
    "    print(f'Probability Mass for interval {i}: {probability_measure}')\n",
    "\n",
    "    \n",
    "#Plotting the graph for the values of 'x' that are in the range of 0 to 10 with their spacing as 10\n",
    "\n",
    "# x = np.linspace(0, 10, 10)\n",
    "# pdf = stats.expon(scale = 1/2).pdf(x)\n",
    "\n",
    "# plt.figure(figsize=(5, 5))\n",
    "# plt.plot(x, pdf, label='PDF')\n",
    "# plt.title('PDF of Exp(2)')\n",
    "# plt.xlabel('x')\n",
    "# plt.ylabel('PDF')\n",
    "# plt.grid(True)\n",
    "# plt.legend()\n",
    "# plt.show()\n",
    "\n",
    "#Plotting the graph for all the intervals individually\n",
    "\n",
    "# x1 = intervals\n",
    "# pdf = stats.expon(scale = 1/2).pdf(x1)\n",
    "\n",
    "# for i, interval in enumerate(x1):\n",
    "#     start, end = interval\n",
    "#     x = np.linspace(start, end, 1000)\n",
    "#     pdf = stats.expon(scale = 1/2).pdf(x)\n",
    "\n",
    "#     plt.subplot(2, 2, i + 1)\n",
    "#     plt.scatter(x, pdf, label=f'Scatter for [{start}, {end}]', marker='.')\n",
    "#     plt.title(f'Scatter Plot for Interval [{start}, {end}]')\n",
    "#     plt.xlabel('x')\n",
    "#     plt.ylabel('PDF')\n",
    "#     plt.grid(True)\n",
    "#     plt.legend()\n",
    "\n",
    "# plt.tight_layout()\n",
    "# plt.show()"
   ]
  },
  {
   "cell_type": "markdown",
   "id": "014c1a72",
   "metadata": {},
   "source": [
    "Here in the above code we have calculated the Probability masses of all the valid intervals by using CDF method. This code gives you output for every interval(valid or not) without terminating the program. However we can write a code even for terminating the program if not a valid interval as done in Question 1. We can see that the probability mass of interval [0,1] is 0.865 appox. which means that this is the probability of getting the values in the interval [0,1]. However, we can see that the probability mass for interval [0,infinity] is 1, which is because we are taking a wide range in that interval."
   ]
  },
  {
   "cell_type": "markdown",
   "id": "333f63d8",
   "metadata": {},
   "source": [
    "### Question 4:"
   ]
  },
  {
   "attachments": {
    "image-2.png": {
     "image/png": "[encoded data removed]"
    }
   },
   "cell_type": "markdown",
   "id": "63525594",
   "metadata": {},
   "source": [
    "Using the pdf method of scipy.stats.expon, define a function called expon_pdf which will take one argument x and return the pdf of the probability measure Exp (2) evaluated at x. Import the integration routine quad from scipy.integrate.\n",
    "\n",
    "Use quad to compute and print the following integrals:\n",
    "![image-2.png](attachment:image-2.png)\n",
    "\n",
    "Compare your answers with those of the previous question. What do you see? Why is this the case?"
   ]
  },
  {
   "cell_type": "code",
   "execution_count": 5,
   "id": "d188e95e",
   "metadata": {},
   "outputs": [
    {
     "name": "stdout",
     "output_type": "stream",
     "text": [
      "Integral from 0 to 1: 0.8647\n",
      "Error from 0 to 1: 0.0000 \n",
      "\n",
      "The Intergrals and the Errors of the various Intervals:\n",
      "\n",
      "Integral from 0 to 1: 0.8647\n",
      "Error from 0 to 1: 0.0000\n",
      "Integral from 1 to 1: 0.0000\n",
      "Error from 1 to 1: 0.0000\n",
      "Integral from 1 to 10: 0.1353\n",
      "Error from 1 to 10: 0.0000\n",
      "Integral from 0 to inf: 1.0000\n",
      "Error from 0 to inf: 0.0000\n"
     ]
    }
   ],
   "source": [
    "#Importing the requiered Libraries\n",
    "\n",
    "from scipy.integrate import quad\n",
    "\n",
    "#Define the expon_pdf function for calsulating the pdf of probability measure\n",
    "def expon_pdf(x):\n",
    "    return stats.expon.pdf(x, scale=1/2)#Here probability measure is Exp (2)\n",
    "\n",
    "\n",
    "#Print the pdf of each interval\n",
    "\n",
    "integral_1, error_1 = quad(expon_pdf, 0, 1)#The quad function gives the numerical intergral along with accuracy\n",
    "print(f\"Integral from 0 to 1: {integral_1:.4f}\")\n",
    "print(f\"Error from 0 to 1: {error_1:.4f} \\n\")\n",
    "\n",
    "#If there are more intervals we can have a list of the required arrays\n",
    "\n",
    "intervals = [[0, 1], [1, 1], [1, 10], [0, np.inf]]\n",
    "print(\"The Intergrals and the Errors of the various Intervals:\\n\")\n",
    "for i, interval in enumerate(intervals):\n",
    "    lower_bound, upper_bound = interval\n",
    "    integral, error = quad(expon_pdf, lower_bound, upper_bound)\n",
    "    print(f\"Integral from {lower_bound} to {upper_bound}: {integral:.4f}\")\n",
    "    print(f\"Error from {lower_bound} to {upper_bound}: {error:.4f}\")"
   ]
  },
  {
   "cell_type": "markdown",
   "id": "d407e2b6",
   "metadata": {},
   "source": [
    "In the above code we are using the quad function from SciPy library to compute the intergral of the given interval.\n",
    "\n",
    "The quad function gives out a tuple as an output, in which the first value is the integral and second value is the estimated error, which is used to determine the accuracy of the integration performed.\n",
    "\n",
    "As you can see that the error value for each of the integral performed for each interval is zero, this means that the integration performed for each interval is accurate.\n",
    "\n",
    "But, Hey!! we are getting the came values for PDF in Question 4 and Probability Mass in Question 5. This can be explained below."
   ]
  },
  {
   "cell_type": "markdown",
   "id": "5f6e87b9",
   "metadata": {},
   "source": [
    "### Comparison of outputs of third and fourth question"
   ]
  },
  {
   "cell_type": "markdown",
   "id": "f7bad6fa",
   "metadata": {},
   "source": [
    "In case of question 3 we were asked to compute the probability mass for the given intervals, while in case of question 4 we were asked to compute the integrals of the PDFs for the same given intervals. In both the cases the probability measure was same as Exp (2).\n",
    "\n",
    "By computing the probability masses and the integrals of PDFs, we can see that both of them are equal. This is because of the probability theory which says the PDF of a continuous variable gives the probability density (probability mass in our case) at any given point. This is true for any given interval which lies in Continuous Distribution. As we were determining the integrals in Exponential Distribution which is a type of Continuous Distribution, we were able to prove that PDFs and probability masses are both equal."
   ]
  },
  {
   "cell_type": "code",
   "execution_count": null,
   "id": "1ca1b896",
   "metadata": {},
   "outputs": [],
   "source": []
  }
 ],
 "metadata": {
  "kernelspec": {
   "display_name": "Python 3 (ipykernel)",
   "language": "python",
   "name": "python3"
  },
  "language_info": {
   "codemirror_mode": {
    "name": "ipython",
    "version": 3
   },
   "file_extension": ".py",
   "mimetype": "text/x-python",
   "name": "python",
   "nbconvert_exporter": "python",
   "pygments_lexer": "ipython3",
   "version": "3.11.4"
  }
 },
 "nbformat": 4,
 "nbformat_minor": 5
}
